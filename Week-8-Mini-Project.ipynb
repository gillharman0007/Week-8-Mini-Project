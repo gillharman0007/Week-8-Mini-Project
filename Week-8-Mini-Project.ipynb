{
 "cells": [
  {
   "cell_type": "code",
   "execution_count": 1,
   "id": "279cb2a1-349d-423c-adfa-f39c08c00f22",
   "metadata": {},
   "outputs": [
    {
     "name": "stdout",
     "output_type": "stream",
     "text": [
      "\n",
      "-- To-Do App --\n",
      "1. View To-Do List\n",
      "2. Add To-Do\n",
      "3. Delete To-Do\n",
      "4. Exit\n"
     ]
    },
    {
     "name": "stdin",
     "output_type": "stream",
     "text": [
      "\n",
      "Choose an option (1-4):  1\n"
     ]
    },
    {
     "name": "stdout",
     "output_type": "stream",
     "text": [
      "No to-do file found! Creating a new one.\n",
      "\n",
      "-- To-Do App --\n",
      "1. View To-Do List\n",
      "2. Add To-Do\n",
      "3. Delete To-Do\n",
      "4. Exit\n"
     ]
    },
    {
     "name": "stdin",
     "output_type": "stream",
     "text": [
      "\n",
      "Choose an option (1-4):  2\n",
      "\n",
      "Enter the task to add:  Get up early\n"
     ]
    },
    {
     "name": "stdout",
     "output_type": "stream",
     "text": [
      "'Get up early' added to your to-do list.\n",
      "\n",
      "-- To-Do App --\n",
      "1. View To-Do List\n",
      "2. Add To-Do\n",
      "3. Delete To-Do\n",
      "4. Exit\n"
     ]
    },
    {
     "name": "stdin",
     "output_type": "stream",
     "text": [
      "\n",
      "Choose an option (1-4):  2\n",
      "\n",
      "Enter the task to add:  Get ready for college\n"
     ]
    },
    {
     "name": "stdout",
     "output_type": "stream",
     "text": [
      "'Get ready for college' added to your to-do list.\n",
      "\n",
      "-- To-Do App --\n",
      "1. View To-Do List\n",
      "2. Add To-Do\n",
      "3. Delete To-Do\n",
      "4. Exit\n"
     ]
    },
    {
     "name": "stdin",
     "output_type": "stream",
     "text": [
      "\n",
      "Choose an option (1-4):  2\n",
      "\n",
      "Enter the task to add:  Go to college and do all tasks in college\n"
     ]
    },
    {
     "name": "stdout",
     "output_type": "stream",
     "text": [
      "'Go to college and do all tasks in college' added to your to-do list.\n",
      "\n",
      "-- To-Do App --\n",
      "1. View To-Do List\n",
      "2. Add To-Do\n",
      "3. Delete To-Do\n",
      "4. Exit\n"
     ]
    },
    {
     "name": "stdin",
     "output_type": "stream",
     "text": [
      "\n",
      "Choose an option (1-4):  2\n",
      "\n",
      "Enter the task to add:  Come home\n"
     ]
    },
    {
     "name": "stdout",
     "output_type": "stream",
     "text": [
      "'Come home' added to your to-do list.\n",
      "\n",
      "-- To-Do App --\n",
      "1. View To-Do List\n",
      "2. Add To-Do\n",
      "3. Delete To-Do\n",
      "4. Exit\n"
     ]
    },
    {
     "name": "stdin",
     "output_type": "stream",
     "text": [
      "\n",
      "Choose an option (1-4):  Spend time with friends\n"
     ]
    },
    {
     "name": "stdout",
     "output_type": "stream",
     "text": [
      "\n",
      "Invalid choice. Please select a number between 1 and 4.\n",
      "\n",
      "-- To-Do App --\n",
      "1. View To-Do List\n",
      "2. Add To-Do\n",
      "3. Delete To-Do\n",
      "4. Exit\n"
     ]
    },
    {
     "name": "stdin",
     "output_type": "stream",
     "text": [
      "\n",
      "Choose an option (1-4):  2\n",
      "\n",
      "Enter the task to add:  Prepare dinner\n"
     ]
    },
    {
     "name": "stdout",
     "output_type": "stream",
     "text": [
      "'Prepare dinner' added to your to-do list.\n",
      "\n",
      "-- To-Do App --\n",
      "1. View To-Do List\n",
      "2. Add To-Do\n",
      "3. Delete To-Do\n",
      "4. Exit\n"
     ]
    },
    {
     "name": "stdin",
     "output_type": "stream",
     "text": [
      "\n",
      "Choose an option (1-4):  2\n",
      "\n",
      "Enter the task to add:  Go to bed\n"
     ]
    },
    {
     "name": "stdout",
     "output_type": "stream",
     "text": [
      "'Go to bed' added to your to-do list.\n",
      "\n",
      "-- To-Do App --\n",
      "1. View To-Do List\n",
      "2. Add To-Do\n",
      "3. Delete To-Do\n",
      "4. Exit\n"
     ]
    },
    {
     "name": "stdin",
     "output_type": "stream",
     "text": [
      "\n",
      "Choose an option (1-4):  3\n"
     ]
    },
    {
     "name": "stdout",
     "output_type": "stream",
     "text": [
      "\n",
      "To-Do List:\n",
      "1. Get up early\n",
      "2. Get ready for college\n",
      "3. Go to college and do all tasks in college\n",
      "4. Come home\n",
      "5. Prepare dinner\n",
      "6. Go to bed\n"
     ]
    },
    {
     "name": "stdin",
     "output_type": "stream",
     "text": [
      "\n",
      "Enter the number of the task to delete:  6\n"
     ]
    },
    {
     "name": "stdout",
     "output_type": "stream",
     "text": [
      "Task 6 deleted.\n",
      "\n",
      "-- To-Do App --\n",
      "1. View To-Do List\n",
      "2. Add To-Do\n",
      "3. Delete To-Do\n",
      "4. Exit\n"
     ]
    },
    {
     "name": "stdin",
     "output_type": "stream",
     "text": [
      "\n",
      "Choose an option (1-4):  1\n"
     ]
    },
    {
     "name": "stdout",
     "output_type": "stream",
     "text": [
      "\n",
      "To-Do List:\n",
      "1. Get up early\n",
      "2. Get ready for college\n",
      "3. Go to college and do all tasks in college\n",
      "4. Come home\n",
      "5. Prepare dinner\n",
      "\n",
      "-- To-Do App --\n",
      "1. View To-Do List\n",
      "2. Add To-Do\n",
      "3. Delete To-Do\n",
      "4. Exit\n"
     ]
    },
    {
     "name": "stdin",
     "output_type": "stream",
     "text": [
      "\n",
      "Choose an option (1-4):  2\n",
      "\n",
      "Enter the task to add:  have dinner\n"
     ]
    },
    {
     "name": "stdout",
     "output_type": "stream",
     "text": [
      "'have dinner' added to your to-do list.\n",
      "\n",
      "-- To-Do App --\n",
      "1. View To-Do List\n",
      "2. Add To-Do\n",
      "3. Delete To-Do\n",
      "4. Exit\n"
     ]
    },
    {
     "name": "stdin",
     "output_type": "stream",
     "text": [
      "\n",
      "Choose an option (1-4):  2\n",
      "\n",
      "Enter the task to add:  Go to bed\n"
     ]
    },
    {
     "name": "stdout",
     "output_type": "stream",
     "text": [
      "'Go to bed' added to your to-do list.\n",
      "\n",
      "-- To-Do App --\n",
      "1. View To-Do List\n",
      "2. Add To-Do\n",
      "3. Delete To-Do\n",
      "4. Exit\n"
     ]
    },
    {
     "name": "stdin",
     "output_type": "stream",
     "text": [
      "\n",
      "Choose an option (1-4):  1\n"
     ]
    },
    {
     "name": "stdout",
     "output_type": "stream",
     "text": [
      "\n",
      "To-Do List:\n",
      "1. Get up early\n",
      "2. Get ready for college\n",
      "3. Go to college and do all tasks in college\n",
      "4. Come home\n",
      "5. Prepare dinner\n",
      "6. have dinner\n",
      "7. Go to bed\n",
      "\n",
      "-- To-Do App --\n",
      "1. View To-Do List\n",
      "2. Add To-Do\n",
      "3. Delete To-Do\n",
      "4. Exit\n"
     ]
    },
    {
     "name": "stdin",
     "output_type": "stream",
     "text": [
      "\n",
      "Choose an option (1-4):  4\n"
     ]
    },
    {
     "name": "stdout",
     "output_type": "stream",
     "text": [
      "Exiting the To-Do App. Goodbye!\n"
     ]
    }
   ],
   "source": [
    "\n",
    "def display_todos():\n",
    "    try:\n",
    "        with open(\"todo.txt\", \"r\") as file:\n",
    "            todos = file.readlines()\n",
    "            if todos:\n",
    "                print(\"\\nTo-Do List:\")\n",
    "                for idx, todo in enumerate(todos, 1):\n",
    "                    print(f\"{idx}. {todo.strip()}\")\n",
    "            else:\n",
    "                print(\"\\nNo to-dos yet!\")\n",
    "    except FileNotFoundError:\n",
    "        print(\"No to-do file found! Creating a new one.\")\n",
    "        open(\"todo.txt\", \"w\").close()\n",
    "\n",
    "def add_todo():\n",
    "    todo = input(\"\\nEnter the task to add: \")\n",
    "    with open(\"todo.txt\", \"a\") as file:\n",
    "        file.write(f\"{todo}\\n\")\n",
    "    print(f\"'{todo}' added to your to-do list.\")\n",
    "\n",
    "def delete_todo():\n",
    "    display_todos()\n",
    "    try:\n",
    "        todo_id = int(input(\"\\nEnter the number of the task to delete: \"))\n",
    "        with open(\"todo.txt\", \"r\") as file:\n",
    "            todos = file.readlines()\n",
    "        \n",
    "        if todo_id > len(todos) or todo_id < 1:\n",
    "            print(\"\\nInvalid task number.\")\n",
    "        else:\n",
    "            del todos[todo_id - 1]\n",
    "            with open(\"todo.txt\", \"w\") as file:\n",
    "                file.writelines(todos)\n",
    "            print(f\"Task {todo_id} deleted.\")\n",
    "    except ValueError:\n",
    "        print(\"\\nInvalid input, please enter a number.\")\n",
    "\n",
    "def main():\n",
    "    while True:\n",
    "        print(\"\\n-- To-Do App --\")\n",
    "        print(\"1. View To-Do List\")\n",
    "        print(\"2. Add To-Do\")\n",
    "        print(\"3. Delete To-Do\")\n",
    "        print(\"4. Exit\")\n",
    "        \n",
    "        choice = input(\"\\nChoose an option (1-4): \")\n",
    "        \n",
    "        if choice == \"1\":\n",
    "            display_todos()\n",
    "        elif choice == \"2\":\n",
    "            add_todo()\n",
    "        elif choice == \"3\":\n",
    "            delete_todo()\n",
    "        elif choice == \"4\":\n",
    "            print(\"Exiting the To-Do App. Goodbye!\")\n",
    "            break\n",
    "        else:\n",
    "            print(\"\\nInvalid choice. Please select a number between 1 and 4.\")\n",
    "\n",
    "if __name__ == \"__main__\":\n",
    "    main()\n"
   ]
  },
  {
   "cell_type": "code",
   "execution_count": null,
   "id": "31911c25-08ba-49e2-9976-587f231e6762",
   "metadata": {},
   "outputs": [],
   "source": []
  }
 ],
 "metadata": {
  "kernelspec": {
   "display_name": "Python 3 (ipykernel)",
   "language": "python",
   "name": "python3"
  },
  "language_info": {
   "codemirror_mode": {
    "name": "ipython",
    "version": 3
   },
   "file_extension": ".py",
   "mimetype": "text/x-python",
   "name": "python",
   "nbconvert_exporter": "python",
   "pygments_lexer": "ipython3",
   "version": "3.12.7"
  }
 },
 "nbformat": 4,
 "nbformat_minor": 5
}
